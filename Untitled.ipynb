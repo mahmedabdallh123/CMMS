{
 "cells": [
  {
   "cell_type": "code",
   "execution_count": 5,
   "id": "bafc383c-425d-47c7-8591-eb20ee9f4ba4",
   "metadata": {},
   "outputs": [
    {
     "ename": "NameError",
     "evalue": "name 'sheets' is not defined",
     "output_type": "error",
     "traceback": [
      "\u001b[1;31m---------------------------------------------------------------------------\u001b[0m",
      "\u001b[1;31mNameError\u001b[0m                                 Traceback (most recent call last)",
      "Cell \u001b[1;32mIn[5], line 8\u001b[0m\n\u001b[0;32m      4\u001b[0m file_path \u001b[38;5;241m=\u001b[39m \u001b[38;5;124mr\u001b[39m\u001b[38;5;124m\"\u001b[39m\u001b[38;5;124mC:\u001b[39m\u001b[38;5;124m\\\u001b[39m\u001b[38;5;124mUsers\u001b[39m\u001b[38;5;124m\\\u001b[39m\u001b[38;5;124mLAP ME\u001b[39m\u001b[38;5;124m\\\u001b[39m\u001b[38;5;124mDesktop\u001b[39m\u001b[38;5;124m\\\u001b[39m\u001b[38;5;124mcmms\u001b[39m\u001b[38;5;124m\\\u001b[39m\u001b[38;5;124mMachine_Service_Lookup.xlsx\u001b[39m\u001b[38;5;124m\"\u001b[39m\n\u001b[0;32m      6\u001b[0m \u001b[38;5;66;03m# قراءة الملف\u001b[39;00m\n\u001b[0;32m      7\u001b[0m \u001b[38;5;66;03m# عرض معلومات كل شيت\u001b[39;00m\n\u001b[1;32m----> 8\u001b[0m \u001b[38;5;28;01mfor\u001b[39;00m name, df \u001b[38;5;129;01min\u001b[39;00m sheets\u001b[38;5;241m.\u001b[39mitems():\n\u001b[0;32m      9\u001b[0m     \u001b[38;5;28mprint\u001b[39m(\u001b[38;5;124m\"\u001b[39m\u001b[38;5;124m=\u001b[39m\u001b[38;5;124m\"\u001b[39m\u001b[38;5;241m*\u001b[39m\u001b[38;5;241m80\u001b[39m)\n\u001b[0;32m     10\u001b[0m     \u001b[38;5;28mprint\u001b[39m(\u001b[38;5;124mf\u001b[39m\u001b[38;5;124m\"\u001b[39m\u001b[38;5;124m📄 Sheet Name: \u001b[39m\u001b[38;5;132;01m{\u001b[39;00mname\u001b[38;5;132;01m}\u001b[39;00m\u001b[38;5;124m\"\u001b[39m)\n",
      "\u001b[1;31mNameError\u001b[0m: name 'sheets' is not defined"
     ]
    }
   ],
   "source": [
    "import pandas as pd\n",
    "\n",
    "# مسار الملف المحلي\n",
    "file_path = r\"C:\\Users\\LAP ME\\Desktop\\cmms\\Machine_Service_Lookup.xlsx\"\n",
    "\n",
    "# قراءة الملف\n",
    "# عرض معلومات كل شيت\n",
    "for name, df in sheets.items():\n",
    "    print(\"=\"*80)\n",
    "    print(f\"📄 Sheet Name: {name}\")\n",
    "    print(f\"🧩 عدد الصفوف: {df.shape[0]}, عدد الأعمدة: {df.shape[1]}\")\n",
    "    print(\"🔹 أسماء الأعمدة:\", list(df.columns))\n",
    "    print(\"🔸 أول 3 صفوف:\")\n",
    "    print(df.head(3))\n",
    "    print(\"\\n\")\n"
   ]
  },
  {
   "cell_type": "code",
   "execution_count": 7,
   "id": "9403bb99-f2d6-45b3-91e5-e2fa37bc332f",
   "metadata": {},
   "outputs": [
    {
     "name": "stdout",
     "output_type": "stream",
     "text": [
      "================================================================================\n",
      "📄 Sheet Name: Machine\n",
      "🧩 عدد الصفوف: 24, عدد الأعمدة: 6\n",
      "🔹 أسماء الأعمدة: ['card', 'Current_Tones', 'Service Needed', 'last service', 'Tones', 'Date']\n",
      "🔸 أول 3 صفوف:\n",
      "   card  Current_Tones                                     Service Needed  \\\n",
      "0     1          555.0  Revolving flats(X)+1.carding elemnt(o)\\n+licke...   \n",
      "1     2            0.0                                         no_service   \n",
      "2     3            0.0                                         no_service   \n",
      "\n",
      "   last service  Tones  Date  \n",
      "0           NaN    NaN   NaN  \n",
      "1           NaN    NaN   NaN  \n",
      "2           NaN    NaN   NaN  \n",
      "\n",
      "\n",
      "================================================================================\n",
      "📄 Sheet Name: Card1\n",
      "🧩 عدد الصفوف: 11, عدد الأعمدة: 12\n",
      "🔹 أسماء الأعمدة: ['card', 'Min_Tons', 'Max_Tons', 'Tones', 'Revolving flats(o)', '1.carding elemnt(o)', 'licker_in carding element(o)', 'Doffer carding element(o)', '(cylinder(X)', 'doffer(X)', 'Revolving flats(o).1', 'Date']\n",
      "🔸 أول 3 صفوف:\n",
      "   card  Min_Tons  Max_Tons  Tones Revolving flats(o) 1.carding elemnt(o)  \\\n",
      "0     1         0       150    NaN                NaN                 NaN   \n",
      "1     1       151       300  155.0                  ✔                   ✔   \n",
      "2     1       301       450    NaN                NaN                   ✔   \n",
      "\n",
      "   licker_in carding element(o) Doffer carding element(o)  (cylinder(X)  \\\n",
      "0                           NaN                       NaN           NaN   \n",
      "1                           NaN                                     NaN   \n",
      "2                           NaN                       NaN           NaN   \n",
      "\n",
      "   doffer(X)  Revolving flats(o).1        Date  \n",
      "0        NaN                   NaN         NaN  \n",
      "1        NaN                   NaN  12\\11\\2024  \n",
      "2        NaN                   NaN         NaN  \n",
      "\n",
      "\n",
      "================================================================================\n",
      "📄 Sheet Name: Sheet2\n",
      "🧩 عدد الصفوف: 1, عدد الأعمدة: 4\n",
      "🔹 أسماء الأعمدة: ['Card', 'Date', 'Tones', 'Service_Type']\n",
      "🔸 أول 3 صفوف:\n",
      "   Card  Date  Tones  Service_Type\n",
      "0     1   NaN    NaN           NaN\n",
      "\n",
      "\n",
      "================================================================================\n",
      "📄 Sheet Name: ServicePlan\n",
      "🧩 عدد الصفوف: 11, عدد الأعمدة: 3\n",
      "🔹 أسماء الأعمدة: ['Min_Tons', 'Max_Tons', 'Service']\n",
      "🔸 أول 3 صفوف:\n",
      "   Min_Tons  Max_Tons                                            Service\n",
      "0         0       150                                         no_service\n",
      "1       151       300           Revolving flats(X)+1.carding elemnt(o)\\n\n",
      "2       301       450  Revolving flats(X)+1.carding elemnt(o)\\n+licke...\n",
      "\n",
      "\n"
     ]
    }
   ],
   "source": [
    "import pandas as pd\n",
    "\n",
    "# مسار الملف على جهازك 👇 (عدّل المسار حسب مكان الملف عندك)\n",
    "file_path = r\"C:\\Users\\LAP ME\\Desktop\\Machine_Service_Lookup.xlsx\"\n",
    "\n",
    "# تحميل كل الشيتات من الملف\n",
    "sheets = pd.read_excel(file_path, sheet_name=None)\n",
    "\n",
    "# عرض معلومات كل شيت\n",
    "for name, df in sheets.items():\n",
    "    print(\"=\"*80)\n",
    "    print(f\"📄 Sheet Name: {name}\")\n",
    "    print(f\"🧩 عدد الصفوف: {df.shape[0]}, عدد الأعمدة: {df.shape[1]}\")\n",
    "    print(\"🔹 أسماء الأعمدة:\", list(df.columns))\n",
    "    print(\"🔸 أول 3 صفوف:\")\n",
    "    print(df.head(3))\n",
    "    print(\"\\n\")\n"
   ]
  },
  {
   "cell_type": "code",
   "execution_count": null,
   "id": "3f268373-db2b-4e87-81ac-3908103b622c",
   "metadata": {},
   "outputs": [],
   "source": []
  },
  {
   "cell_type": "code",
   "execution_count": null,
   "id": "3b510751-7b0e-4424-99ee-b250cc676005",
   "metadata": {},
   "outputs": [],
   "source": []
  }
 ],
 "metadata": {
  "kernelspec": {
   "display_name": "Python 3 (ipykernel)",
   "language": "python",
   "name": "python3"
  },
  "language_info": {
   "codemirror_mode": {
    "name": "ipython",
    "version": 3
   },
   "file_extension": ".py",
   "mimetype": "text/x-python",
   "name": "python",
   "nbconvert_exporter": "python",
   "pygments_lexer": "ipython3",
   "version": "3.12.4"
  }
 },
 "nbformat": 4,
 "nbformat_minor": 5
}
